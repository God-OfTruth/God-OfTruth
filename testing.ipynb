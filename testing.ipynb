{
  "nbformat": 4,
  "nbformat_minor": 0,
  "metadata": {
    "colab": {
      "name": "testing.ipynb",
      "provenance": [],
      "collapsed_sections": [],
      "authorship_tag": "ABX9TyPjs97CYYJAXXTRnAyQcO0c",
      "include_colab_link": true
    },
    "kernelspec": {
      "name": "python3",
      "display_name": "Python 3"
    },
    "language_info": {
      "name": "python"
    }
  },
  "cells": [
    {
      "cell_type": "markdown",
      "metadata": {
        "id": "view-in-github",
        "colab_type": "text"
      },
      "source": [
        "<a href=\"https://colab.research.google.com/github/God-OfTruth/God-OfTruth/blob/master/testing.ipynb\" target=\"_parent\"><img src=\"https://colab.research.google.com/assets/colab-badge.svg\" alt=\"Open In Colab\"/></a>"
      ]
    },
    {
      "cell_type": "code",
      "metadata": {
        "id": "vU6JSs9XUahM"
      },
      "source": [
        "import pandas"
      ],
      "execution_count": 3,
      "outputs": []
    },
    {
      "cell_type": "code",
      "metadata": {
        "colab": {
          "base_uri": "https://localhost:8080/",
          "height": 235
        },
        "id": "pgDnniRTXJP6",
        "outputId": "208c8208-25d9-4b65-a5b8-b6066bf97023"
      },
      "source": [
        "df1=pandas.read_csv(\"/supermarkets.csv\")\n",
        "df1"
      ],
      "execution_count": 4,
      "outputs": [
        {
          "output_type": "execute_result",
          "data": {
            "text/html": [
              "<div>\n",
              "<style scoped>\n",
              "    .dataframe tbody tr th:only-of-type {\n",
              "        vertical-align: middle;\n",
              "    }\n",
              "\n",
              "    .dataframe tbody tr th {\n",
              "        vertical-align: top;\n",
              "    }\n",
              "\n",
              "    .dataframe thead th {\n",
              "        text-align: right;\n",
              "    }\n",
              "</style>\n",
              "<table border=\"1\" class=\"dataframe\">\n",
              "  <thead>\n",
              "    <tr style=\"text-align: right;\">\n",
              "      <th></th>\n",
              "      <th>ID</th>\n",
              "      <th>Address</th>\n",
              "      <th>City</th>\n",
              "      <th>State</th>\n",
              "      <th>Country</th>\n",
              "      <th>Name</th>\n",
              "      <th>Employees</th>\n",
              "    </tr>\n",
              "  </thead>\n",
              "  <tbody>\n",
              "    <tr>\n",
              "      <th>0</th>\n",
              "      <td>1</td>\n",
              "      <td>3666 21st St</td>\n",
              "      <td>San Francisco</td>\n",
              "      <td>CA 94114</td>\n",
              "      <td>USA</td>\n",
              "      <td>Madeira</td>\n",
              "      <td>8</td>\n",
              "    </tr>\n",
              "    <tr>\n",
              "      <th>1</th>\n",
              "      <td>2</td>\n",
              "      <td>735 Dolores St</td>\n",
              "      <td>San Francisco</td>\n",
              "      <td>CA 94119</td>\n",
              "      <td>USA</td>\n",
              "      <td>Bready Shop</td>\n",
              "      <td>15</td>\n",
              "    </tr>\n",
              "    <tr>\n",
              "      <th>2</th>\n",
              "      <td>3</td>\n",
              "      <td>332 Hill St</td>\n",
              "      <td>San Francisco</td>\n",
              "      <td>California 94114</td>\n",
              "      <td>USA</td>\n",
              "      <td>Super River</td>\n",
              "      <td>25</td>\n",
              "    </tr>\n",
              "    <tr>\n",
              "      <th>3</th>\n",
              "      <td>4</td>\n",
              "      <td>3995 23rd St</td>\n",
              "      <td>San Francisco</td>\n",
              "      <td>CA 94114</td>\n",
              "      <td>USA</td>\n",
              "      <td>Ben's Shop</td>\n",
              "      <td>10</td>\n",
              "    </tr>\n",
              "    <tr>\n",
              "      <th>4</th>\n",
              "      <td>5</td>\n",
              "      <td>1056 Sanchez St</td>\n",
              "      <td>San Francisco</td>\n",
              "      <td>California</td>\n",
              "      <td>USA</td>\n",
              "      <td>Sanchez</td>\n",
              "      <td>12</td>\n",
              "    </tr>\n",
              "    <tr>\n",
              "      <th>5</th>\n",
              "      <td>6</td>\n",
              "      <td>551 Alvarado St</td>\n",
              "      <td>San Francisco</td>\n",
              "      <td>CA 94114</td>\n",
              "      <td>USA</td>\n",
              "      <td>Richvalley</td>\n",
              "      <td>20</td>\n",
              "    </tr>\n",
              "  </tbody>\n",
              "</table>\n",
              "</div>"
            ],
            "text/plain": [
              "   ID          Address           City  ... Country         Name Employees\n",
              "0   1     3666 21st St  San Francisco  ...     USA      Madeira         8\n",
              "1   2   735 Dolores St  San Francisco  ...     USA  Bready Shop        15\n",
              "2   3      332 Hill St  San Francisco  ...     USA  Super River        25\n",
              "3   4     3995 23rd St  San Francisco  ...     USA   Ben's Shop        10\n",
              "4   5  1056 Sanchez St  San Francisco  ...     USA      Sanchez        12\n",
              "5   6  551 Alvarado St  San Francisco  ...     USA   Richvalley        20\n",
              "\n",
              "[6 rows x 7 columns]"
            ]
          },
          "metadata": {},
          "execution_count": 4
        }
      ]
    },
    {
      "cell_type": "code",
      "metadata": {
        "id": "-bYAUAEGX1Ea"
      },
      "source": [
        "from bs4 import BeautifulSoup\n",
        "import requests\n",
        "\n",
        "r=requests.get(\"https://en.wikipedia.org/wiki/india\")\n",
        "print(r.content)"
      ],
      "execution_count": null,
      "outputs": []
    },
    {
      "cell_type": "markdown",
      "metadata": {
        "id": "aKwUaKXNZXAq"
      },
      "source": [
        "# New Section"
      ]
    },
    {
      "cell_type": "code",
      "metadata": {
        "id": "pL8YjMyfZaVj"
      },
      "source": [
        "import pandas\n",
        "df2=pandas.read_excel(\"/supermarkets.xlsx\",sheet_name=0)\n",
        "df1"
      ],
      "execution_count": null,
      "outputs": []
    },
    {
      "cell_type": "code",
      "metadata": {
        "colab": {
          "base_uri": "https://localhost:8080/",
          "height": 235
        },
        "id": "OH0gE1FhazfZ",
        "outputId": "a61cd7f9-5063-4934-ea0f-14fbee25128e"
      },
      "source": [
        "df3=pandas.read_csv(\"/supermarkets-semi-colons.txt\",sep=\";\")\n",
        "df3"
      ],
      "execution_count": 16,
      "outputs": [
        {
          "output_type": "execute_result",
          "data": {
            "text/html": [
              "<div>\n",
              "<style scoped>\n",
              "    .dataframe tbody tr th:only-of-type {\n",
              "        vertical-align: middle;\n",
              "    }\n",
              "\n",
              "    .dataframe tbody tr th {\n",
              "        vertical-align: top;\n",
              "    }\n",
              "\n",
              "    .dataframe thead th {\n",
              "        text-align: right;\n",
              "    }\n",
              "</style>\n",
              "<table border=\"1\" class=\"dataframe\">\n",
              "  <thead>\n",
              "    <tr style=\"text-align: right;\">\n",
              "      <th></th>\n",
              "      <th>ID</th>\n",
              "      <th>Address</th>\n",
              "      <th>City</th>\n",
              "      <th>State</th>\n",
              "      <th>Country</th>\n",
              "      <th>Name</th>\n",
              "      <th>Employees</th>\n",
              "    </tr>\n",
              "  </thead>\n",
              "  <tbody>\n",
              "    <tr>\n",
              "      <th>0</th>\n",
              "      <td>1</td>\n",
              "      <td>3666 21st St</td>\n",
              "      <td>San Francisco</td>\n",
              "      <td>CA 94114</td>\n",
              "      <td>USA</td>\n",
              "      <td>Madeira</td>\n",
              "      <td>8</td>\n",
              "    </tr>\n",
              "    <tr>\n",
              "      <th>1</th>\n",
              "      <td>2</td>\n",
              "      <td>735 Dolores St</td>\n",
              "      <td>San Francisco</td>\n",
              "      <td>CA 94119</td>\n",
              "      <td>USA</td>\n",
              "      <td>Bready Shop</td>\n",
              "      <td>15</td>\n",
              "    </tr>\n",
              "    <tr>\n",
              "      <th>2</th>\n",
              "      <td>3</td>\n",
              "      <td>332 Hill St</td>\n",
              "      <td>San Francisco</td>\n",
              "      <td>California 94114</td>\n",
              "      <td>USA</td>\n",
              "      <td>Super River</td>\n",
              "      <td>25</td>\n",
              "    </tr>\n",
              "    <tr>\n",
              "      <th>3</th>\n",
              "      <td>4</td>\n",
              "      <td>3995 23rd St</td>\n",
              "      <td>San Francisco</td>\n",
              "      <td>CA 94114</td>\n",
              "      <td>USA</td>\n",
              "      <td>Ben's Shop</td>\n",
              "      <td>10</td>\n",
              "    </tr>\n",
              "    <tr>\n",
              "      <th>4</th>\n",
              "      <td>5</td>\n",
              "      <td>1056 Sanchez St</td>\n",
              "      <td>San Francisco</td>\n",
              "      <td>California</td>\n",
              "      <td>USA</td>\n",
              "      <td>Sanchez</td>\n",
              "      <td>12</td>\n",
              "    </tr>\n",
              "    <tr>\n",
              "      <th>5</th>\n",
              "      <td>6</td>\n",
              "      <td>551 Alvarado St</td>\n",
              "      <td>San Francisco</td>\n",
              "      <td>CA 94114</td>\n",
              "      <td>USA</td>\n",
              "      <td>Richvalley</td>\n",
              "      <td>20</td>\n",
              "    </tr>\n",
              "  </tbody>\n",
              "</table>\n",
              "</div>"
            ],
            "text/plain": [
              "   ID          Address           City  ... Country          Name Employees\n",
              "0   1     3666 21st St  San Francisco  ...     USA       Madeira         8\n",
              "1   2   735 Dolores St  San Francisco  ...     USA   Bready Shop        15\n",
              "2   3      332 Hill St  San Francisco  ...     USA   Super River        25\n",
              "3   4     3995 23rd St  San Francisco  ...     USA    Ben's Shop        10\n",
              "4   5  1056 Sanchez St  San Francisco  ...     USA       Sanchez        12\n",
              "5   6  551 Alvarado St  San Francisco  ...     USA    Richvalley        20\n",
              "\n",
              "[6 rows x 7 columns]"
            ]
          },
          "metadata": {},
          "execution_count": 16
        }
      ]
    },
    {
      "cell_type": "code",
      "metadata": {
        "id": "Dd6p3IslfDU7"
      },
      "source": [
        ""
      ],
      "execution_count": null,
      "outputs": []
    },
    {
      "cell_type": "code",
      "metadata": {
        "colab": {
          "base_uri": "https://localhost:8080/"
        },
        "id": "gobrK4B2fER2",
        "outputId": "4dcdaf57-7cc9-4ed0-a102-c665d8f75872"
      },
      "source": [
        "import geopy\n",
        "dir(geopy)"
      ],
      "execution_count": 17,
      "outputs": [
        {
          "output_type": "execute_result",
          "data": {
            "text/plain": [
              "['ArcGIS',\n",
              " 'AzureMaps',\n",
              " 'Baidu',\n",
              " 'Bing',\n",
              " 'DataBC',\n",
              " 'GeoNames',\n",
              " 'GeocodeEarth',\n",
              " 'GeocodeFarm',\n",
              " 'GoogleV3',\n",
              " 'Here',\n",
              " 'IGNFrance',\n",
              " 'LiveAddress',\n",
              " 'Location',\n",
              " 'MapBox',\n",
              " 'Nominatim',\n",
              " 'OpenCage',\n",
              " 'OpenMapQuest',\n",
              " 'Pelias',\n",
              " 'Photon',\n",
              " 'PickPoint',\n",
              " 'Point',\n",
              " 'TomTom',\n",
              " 'What3Words',\n",
              " 'Yandex',\n",
              " '__builtins__',\n",
              " '__cached__',\n",
              " '__doc__',\n",
              " '__file__',\n",
              " '__loader__',\n",
              " '__name__',\n",
              " '__package__',\n",
              " '__path__',\n",
              " '__spec__',\n",
              " '__version__',\n",
              " 'compat',\n",
              " 'exc',\n",
              " 'format',\n",
              " 'geocoders',\n",
              " 'get_geocoder_for_service',\n",
              " 'location',\n",
              " 'point',\n",
              " 'units',\n",
              " 'util']"
            ]
          },
          "metadata": {},
          "execution_count": 17
        }
      ]
    },
    {
      "cell_type": "code",
      "metadata": {
        "id": "SAzfoAbIfxL1"
      },
      "source": [
        "from geopy.geocoders import ArcGIS"
      ],
      "execution_count": 18,
      "outputs": []
    },
    {
      "cell_type": "code",
      "metadata": {
        "id": "t1zND8Lqf9_s"
      },
      "source": [
        "nom=ArcGIS()"
      ],
      "execution_count": 19,
      "outputs": []
    },
    {
      "cell_type": "code",
      "metadata": {
        "id": "zbm7poOjgDj9"
      },
      "source": [
        "n=nom.geocode(\"735 Dolores St,\tSan Francisco,\tCA, 94119,\tUSA\")"
      ],
      "execution_count": 22,
      "outputs": []
    },
    {
      "cell_type": "code",
      "metadata": {
        "colab": {
          "base_uri": "https://localhost:8080/"
        },
        "id": "8aYbVr1bgYba",
        "outputId": "3e27e887-67dd-4c38-b368-9a61d3de60f3"
      },
      "source": [
        "type(n)"
      ],
      "execution_count": 23,
      "outputs": [
        {
          "output_type": "execute_result",
          "data": {
            "text/plain": [
              "geopy.location.Location"
            ]
          },
          "metadata": {},
          "execution_count": 23
        }
      ]
    },
    {
      "cell_type": "code",
      "metadata": {
        "id": "xAqJEfI8gxp7"
      },
      "source": [
        "df=pandas.read_csv(\"/supermarkets.csv\")"
      ],
      "execution_count": 24,
      "outputs": []
    },
    {
      "cell_type": "code",
      "metadata": {
        "colab": {
          "base_uri": "https://localhost:8080/",
          "height": 235
        },
        "id": "pjvGEqbhhDB4",
        "outputId": "1317ff0d-7ac9-4a69-8b3e-be087a7e0a4a"
      },
      "source": [
        "df\n"
      ],
      "execution_count": 25,
      "outputs": [
        {
          "output_type": "execute_result",
          "data": {
            "text/html": [
              "<div>\n",
              "<style scoped>\n",
              "    .dataframe tbody tr th:only-of-type {\n",
              "        vertical-align: middle;\n",
              "    }\n",
              "\n",
              "    .dataframe tbody tr th {\n",
              "        vertical-align: top;\n",
              "    }\n",
              "\n",
              "    .dataframe thead th {\n",
              "        text-align: right;\n",
              "    }\n",
              "</style>\n",
              "<table border=\"1\" class=\"dataframe\">\n",
              "  <thead>\n",
              "    <tr style=\"text-align: right;\">\n",
              "      <th></th>\n",
              "      <th>ID</th>\n",
              "      <th>Address</th>\n",
              "      <th>City</th>\n",
              "      <th>State</th>\n",
              "      <th>Country</th>\n",
              "      <th>Name</th>\n",
              "      <th>Employees</th>\n",
              "    </tr>\n",
              "  </thead>\n",
              "  <tbody>\n",
              "    <tr>\n",
              "      <th>0</th>\n",
              "      <td>1</td>\n",
              "      <td>3666 21st St</td>\n",
              "      <td>San Francisco</td>\n",
              "      <td>CA 94114</td>\n",
              "      <td>USA</td>\n",
              "      <td>Madeira</td>\n",
              "      <td>8</td>\n",
              "    </tr>\n",
              "    <tr>\n",
              "      <th>1</th>\n",
              "      <td>2</td>\n",
              "      <td>735 Dolores St</td>\n",
              "      <td>San Francisco</td>\n",
              "      <td>CA 94119</td>\n",
              "      <td>USA</td>\n",
              "      <td>Bready Shop</td>\n",
              "      <td>15</td>\n",
              "    </tr>\n",
              "    <tr>\n",
              "      <th>2</th>\n",
              "      <td>3</td>\n",
              "      <td>332 Hill St</td>\n",
              "      <td>San Francisco</td>\n",
              "      <td>California 94114</td>\n",
              "      <td>USA</td>\n",
              "      <td>Super River</td>\n",
              "      <td>25</td>\n",
              "    </tr>\n",
              "    <tr>\n",
              "      <th>3</th>\n",
              "      <td>4</td>\n",
              "      <td>3995 23rd St</td>\n",
              "      <td>San Francisco</td>\n",
              "      <td>CA 94114</td>\n",
              "      <td>USA</td>\n",
              "      <td>Ben's Shop</td>\n",
              "      <td>10</td>\n",
              "    </tr>\n",
              "    <tr>\n",
              "      <th>4</th>\n",
              "      <td>5</td>\n",
              "      <td>1056 Sanchez St</td>\n",
              "      <td>San Francisco</td>\n",
              "      <td>California</td>\n",
              "      <td>USA</td>\n",
              "      <td>Sanchez</td>\n",
              "      <td>12</td>\n",
              "    </tr>\n",
              "    <tr>\n",
              "      <th>5</th>\n",
              "      <td>6</td>\n",
              "      <td>551 Alvarado St</td>\n",
              "      <td>San Francisco</td>\n",
              "      <td>CA 94114</td>\n",
              "      <td>USA</td>\n",
              "      <td>Richvalley</td>\n",
              "      <td>20</td>\n",
              "    </tr>\n",
              "  </tbody>\n",
              "</table>\n",
              "</div>"
            ],
            "text/plain": [
              "   ID          Address           City  ... Country         Name Employees\n",
              "0   1     3666 21st St  San Francisco  ...     USA      Madeira         8\n",
              "1   2   735 Dolores St  San Francisco  ...     USA  Bready Shop        15\n",
              "2   3      332 Hill St  San Francisco  ...     USA  Super River        25\n",
              "3   4     3995 23rd St  San Francisco  ...     USA   Ben's Shop        10\n",
              "4   5  1056 Sanchez St  San Francisco  ...     USA      Sanchez        12\n",
              "5   6  551 Alvarado St  San Francisco  ...     USA   Richvalley        20\n",
              "\n",
              "[6 rows x 7 columns]"
            ]
          },
          "metadata": {},
          "execution_count": 25
        }
      ]
    },
    {
      "cell_type": "code",
      "metadata": {
        "colab": {
          "base_uri": "https://localhost:8080/",
          "height": 235
        },
        "id": "DRYL2oKGhEqK",
        "outputId": "dfbaa6e5-d86b-4bd1-dc13-1d02bc45bc1b"
      },
      "source": [
        "df[\"Address\"]=df[\"Address\"]+\",\"+df[\"City\"]+\",\"+df[\"State\"]+\",\"+df[\"Country\"]\n",
        "df"
      ],
      "execution_count": 27,
      "outputs": [
        {
          "output_type": "execute_result",
          "data": {
            "text/html": [
              "<div>\n",
              "<style scoped>\n",
              "    .dataframe tbody tr th:only-of-type {\n",
              "        vertical-align: middle;\n",
              "    }\n",
              "\n",
              "    .dataframe tbody tr th {\n",
              "        vertical-align: top;\n",
              "    }\n",
              "\n",
              "    .dataframe thead th {\n",
              "        text-align: right;\n",
              "    }\n",
              "</style>\n",
              "<table border=\"1\" class=\"dataframe\">\n",
              "  <thead>\n",
              "    <tr style=\"text-align: right;\">\n",
              "      <th></th>\n",
              "      <th>ID</th>\n",
              "      <th>Address</th>\n",
              "      <th>City</th>\n",
              "      <th>State</th>\n",
              "      <th>Country</th>\n",
              "      <th>Name</th>\n",
              "      <th>Employees</th>\n",
              "    </tr>\n",
              "  </thead>\n",
              "  <tbody>\n",
              "    <tr>\n",
              "      <th>0</th>\n",
              "      <td>1</td>\n",
              "      <td>3666 21st St,San Francisco,CA 94114,USA</td>\n",
              "      <td>San Francisco</td>\n",
              "      <td>CA 94114</td>\n",
              "      <td>USA</td>\n",
              "      <td>Madeira</td>\n",
              "      <td>8</td>\n",
              "    </tr>\n",
              "    <tr>\n",
              "      <th>1</th>\n",
              "      <td>2</td>\n",
              "      <td>735 Dolores St,San Francisco,CA 94119,USA</td>\n",
              "      <td>San Francisco</td>\n",
              "      <td>CA 94119</td>\n",
              "      <td>USA</td>\n",
              "      <td>Bready Shop</td>\n",
              "      <td>15</td>\n",
              "    </tr>\n",
              "    <tr>\n",
              "      <th>2</th>\n",
              "      <td>3</td>\n",
              "      <td>332 Hill St,San Francisco,California 94114,USA</td>\n",
              "      <td>San Francisco</td>\n",
              "      <td>California 94114</td>\n",
              "      <td>USA</td>\n",
              "      <td>Super River</td>\n",
              "      <td>25</td>\n",
              "    </tr>\n",
              "    <tr>\n",
              "      <th>3</th>\n",
              "      <td>4</td>\n",
              "      <td>3995 23rd St,San Francisco,CA 94114,USA</td>\n",
              "      <td>San Francisco</td>\n",
              "      <td>CA 94114</td>\n",
              "      <td>USA</td>\n",
              "      <td>Ben's Shop</td>\n",
              "      <td>10</td>\n",
              "    </tr>\n",
              "    <tr>\n",
              "      <th>4</th>\n",
              "      <td>5</td>\n",
              "      <td>1056 Sanchez St,San Francisco,California,USA</td>\n",
              "      <td>San Francisco</td>\n",
              "      <td>California</td>\n",
              "      <td>USA</td>\n",
              "      <td>Sanchez</td>\n",
              "      <td>12</td>\n",
              "    </tr>\n",
              "    <tr>\n",
              "      <th>5</th>\n",
              "      <td>6</td>\n",
              "      <td>551 Alvarado St,San Francisco,CA 94114,USA</td>\n",
              "      <td>San Francisco</td>\n",
              "      <td>CA 94114</td>\n",
              "      <td>USA</td>\n",
              "      <td>Richvalley</td>\n",
              "      <td>20</td>\n",
              "    </tr>\n",
              "  </tbody>\n",
              "</table>\n",
              "</div>"
            ],
            "text/plain": [
              "   ID                                         Address  ...         Name Employees\n",
              "0   1         3666 21st St,San Francisco,CA 94114,USA  ...      Madeira         8\n",
              "1   2       735 Dolores St,San Francisco,CA 94119,USA  ...  Bready Shop        15\n",
              "2   3  332 Hill St,San Francisco,California 94114,USA  ...  Super River        25\n",
              "3   4         3995 23rd St,San Francisco,CA 94114,USA  ...   Ben's Shop        10\n",
              "4   5    1056 Sanchez St,San Francisco,California,USA  ...      Sanchez        12\n",
              "5   6      551 Alvarado St,San Francisco,CA 94114,USA  ...   Richvalley        20\n",
              "\n",
              "[6 rows x 7 columns]"
            ]
          },
          "metadata": {},
          "execution_count": 27
        }
      ]
    },
    {
      "cell_type": "code",
      "metadata": {
        "colab": {
          "base_uri": "https://localhost:8080/",
          "height": 235
        },
        "id": "c9-kr5G5hpDh",
        "outputId": "08a669c6-1f35-4d5d-fdaf-177f64008385"
      },
      "source": [
        "df[\"Coordinates\"]=df[\"Address\"].apply(nom.geocode)\n",
        "df"
      ],
      "execution_count": 28,
      "outputs": [
        {
          "output_type": "execute_result",
          "data": {
            "text/html": [
              "<div>\n",
              "<style scoped>\n",
              "    .dataframe tbody tr th:only-of-type {\n",
              "        vertical-align: middle;\n",
              "    }\n",
              "\n",
              "    .dataframe tbody tr th {\n",
              "        vertical-align: top;\n",
              "    }\n",
              "\n",
              "    .dataframe thead th {\n",
              "        text-align: right;\n",
              "    }\n",
              "</style>\n",
              "<table border=\"1\" class=\"dataframe\">\n",
              "  <thead>\n",
              "    <tr style=\"text-align: right;\">\n",
              "      <th></th>\n",
              "      <th>ID</th>\n",
              "      <th>Address</th>\n",
              "      <th>City</th>\n",
              "      <th>State</th>\n",
              "      <th>Country</th>\n",
              "      <th>Name</th>\n",
              "      <th>Employees</th>\n",
              "      <th>Coordinates</th>\n",
              "    </tr>\n",
              "  </thead>\n",
              "  <tbody>\n",
              "    <tr>\n",
              "      <th>0</th>\n",
              "      <td>1</td>\n",
              "      <td>3666 21st St,San Francisco,CA 94114,USA</td>\n",
              "      <td>San Francisco</td>\n",
              "      <td>CA 94114</td>\n",
              "      <td>USA</td>\n",
              "      <td>Madeira</td>\n",
              "      <td>8</td>\n",
              "      <td>(3666 21st St, San Francisco, California, 9411...</td>\n",
              "    </tr>\n",
              "    <tr>\n",
              "      <th>1</th>\n",
              "      <td>2</td>\n",
              "      <td>735 Dolores St,San Francisco,CA 94119,USA</td>\n",
              "      <td>San Francisco</td>\n",
              "      <td>CA 94119</td>\n",
              "      <td>USA</td>\n",
              "      <td>Bready Shop</td>\n",
              "      <td>15</td>\n",
              "      <td>(735 Dolores St, San Francisco, California, 94...</td>\n",
              "    </tr>\n",
              "    <tr>\n",
              "      <th>2</th>\n",
              "      <td>3</td>\n",
              "      <td>332 Hill St,San Francisco,California 94114,USA</td>\n",
              "      <td>San Francisco</td>\n",
              "      <td>California 94114</td>\n",
              "      <td>USA</td>\n",
              "      <td>Super River</td>\n",
              "      <td>25</td>\n",
              "      <td>(332 Hill St, San Francisco, California, 94114...</td>\n",
              "    </tr>\n",
              "    <tr>\n",
              "      <th>3</th>\n",
              "      <td>4</td>\n",
              "      <td>3995 23rd St,San Francisco,CA 94114,USA</td>\n",
              "      <td>San Francisco</td>\n",
              "      <td>CA 94114</td>\n",
              "      <td>USA</td>\n",
              "      <td>Ben's Shop</td>\n",
              "      <td>10</td>\n",
              "      <td>(3995 23rd St, San Francisco, California, 9411...</td>\n",
              "    </tr>\n",
              "    <tr>\n",
              "      <th>4</th>\n",
              "      <td>5</td>\n",
              "      <td>1056 Sanchez St,San Francisco,California,USA</td>\n",
              "      <td>San Francisco</td>\n",
              "      <td>California</td>\n",
              "      <td>USA</td>\n",
              "      <td>Sanchez</td>\n",
              "      <td>12</td>\n",
              "      <td>(1056 Sanchez St, San Francisco, California, 9...</td>\n",
              "    </tr>\n",
              "    <tr>\n",
              "      <th>5</th>\n",
              "      <td>6</td>\n",
              "      <td>551 Alvarado St,San Francisco,CA 94114,USA</td>\n",
              "      <td>San Francisco</td>\n",
              "      <td>CA 94114</td>\n",
              "      <td>USA</td>\n",
              "      <td>Richvalley</td>\n",
              "      <td>20</td>\n",
              "      <td>(551 Alvarado St, San Francisco, California, 9...</td>\n",
              "    </tr>\n",
              "  </tbody>\n",
              "</table>\n",
              "</div>"
            ],
            "text/plain": [
              "   ID  ...                                        Coordinates\n",
              "0   1  ...  (3666 21st St, San Francisco, California, 9411...\n",
              "1   2  ...  (735 Dolores St, San Francisco, California, 94...\n",
              "2   3  ...  (332 Hill St, San Francisco, California, 94114...\n",
              "3   4  ...  (3995 23rd St, San Francisco, California, 9411...\n",
              "4   5  ...  (1056 Sanchez St, San Francisco, California, 9...\n",
              "5   6  ...  (551 Alvarado St, San Francisco, California, 9...\n",
              "\n",
              "[6 rows x 8 columns]"
            ]
          },
          "metadata": {},
          "execution_count": 28
        }
      ]
    },
    {
      "cell_type": "code",
      "metadata": {
        "colab": {
          "base_uri": "https://localhost:8080/"
        },
        "id": "iBmrDy4diVON",
        "outputId": "f1b80711-635a-4a00-9339-427edd05db56"
      },
      "source": [
        "df.Coordinates[0].latitude"
      ],
      "execution_count": 29,
      "outputs": [
        {
          "output_type": "execute_result",
          "data": {
            "text/plain": [
              "37.756632001957215"
            ]
          },
          "metadata": {},
          "execution_count": 29
        }
      ]
    },
    {
      "cell_type": "code",
      "metadata": {
        "colab": {
          "base_uri": "https://localhost:8080/",
          "height": 337
        },
        "id": "_7oRIuLoimXV",
        "outputId": "fe7bc261-8876-4482-c363-6ea6529ad81b"
      },
      "source": [
        "df[\"Latitude\"]=df[\"Coordinates\"].apply(lambda x: x.latitude if x!=None else None)\n",
        "df[\"Longitude\"]=df[\"Coordinates\"].apply(lambda x: x.longitude if x!=None else None)\n",
        "df"
      ],
      "execution_count": 35,
      "outputs": [
        {
          "output_type": "execute_result",
          "data": {
            "text/html": [
              "<div>\n",
              "<style scoped>\n",
              "    .dataframe tbody tr th:only-of-type {\n",
              "        vertical-align: middle;\n",
              "    }\n",
              "\n",
              "    .dataframe tbody tr th {\n",
              "        vertical-align: top;\n",
              "    }\n",
              "\n",
              "    .dataframe thead th {\n",
              "        text-align: right;\n",
              "    }\n",
              "</style>\n",
              "<table border=\"1\" class=\"dataframe\">\n",
              "  <thead>\n",
              "    <tr style=\"text-align: right;\">\n",
              "      <th></th>\n",
              "      <th>ID</th>\n",
              "      <th>Address</th>\n",
              "      <th>City</th>\n",
              "      <th>State</th>\n",
              "      <th>Country</th>\n",
              "      <th>Name</th>\n",
              "      <th>Employees</th>\n",
              "      <th>Coordinates</th>\n",
              "      <th>Latitude</th>\n",
              "      <th>Longitude</th>\n",
              "    </tr>\n",
              "  </thead>\n",
              "  <tbody>\n",
              "    <tr>\n",
              "      <th>0</th>\n",
              "      <td>1</td>\n",
              "      <td>3666 21st St,San Francisco,CA 94114,USA</td>\n",
              "      <td>San Francisco</td>\n",
              "      <td>CA 94114</td>\n",
              "      <td>USA</td>\n",
              "      <td>Madeira</td>\n",
              "      <td>8</td>\n",
              "      <td>(3666 21st St, San Francisco, California, 9411...</td>\n",
              "      <td>37.756632</td>\n",
              "      <td>-122.429411</td>\n",
              "    </tr>\n",
              "    <tr>\n",
              "      <th>1</th>\n",
              "      <td>2</td>\n",
              "      <td>735 Dolores St,San Francisco,CA 94119,USA</td>\n",
              "      <td>San Francisco</td>\n",
              "      <td>CA 94119</td>\n",
              "      <td>USA</td>\n",
              "      <td>Bready Shop</td>\n",
              "      <td>15</td>\n",
              "      <td>(735 Dolores St, San Francisco, California, 94...</td>\n",
              "      <td>37.757829</td>\n",
              "      <td>-122.425373</td>\n",
              "    </tr>\n",
              "    <tr>\n",
              "      <th>2</th>\n",
              "      <td>3</td>\n",
              "      <td>332 Hill St,San Francisco,California 94114,USA</td>\n",
              "      <td>San Francisco</td>\n",
              "      <td>California 94114</td>\n",
              "      <td>USA</td>\n",
              "      <td>Super River</td>\n",
              "      <td>25</td>\n",
              "      <td>(332 Hill St, San Francisco, California, 94114...</td>\n",
              "      <td>37.755845</td>\n",
              "      <td>-122.428813</td>\n",
              "    </tr>\n",
              "    <tr>\n",
              "      <th>3</th>\n",
              "      <td>4</td>\n",
              "      <td>3995 23rd St,San Francisco,CA 94114,USA</td>\n",
              "      <td>San Francisco</td>\n",
              "      <td>CA 94114</td>\n",
              "      <td>USA</td>\n",
              "      <td>Ben's Shop</td>\n",
              "      <td>10</td>\n",
              "      <td>(3995 23rd St, San Francisco, California, 9411...</td>\n",
              "      <td>37.752921</td>\n",
              "      <td>-122.431703</td>\n",
              "    </tr>\n",
              "    <tr>\n",
              "      <th>4</th>\n",
              "      <td>5</td>\n",
              "      <td>1056 Sanchez St,San Francisco,California,USA</td>\n",
              "      <td>San Francisco</td>\n",
              "      <td>California</td>\n",
              "      <td>USA</td>\n",
              "      <td>Sanchez</td>\n",
              "      <td>12</td>\n",
              "      <td>(1056 Sanchez St, San Francisco, California, 9...</td>\n",
              "      <td>37.752132</td>\n",
              "      <td>-122.430006</td>\n",
              "    </tr>\n",
              "    <tr>\n",
              "      <th>5</th>\n",
              "      <td>6</td>\n",
              "      <td>551 Alvarado St,San Francisco,CA 94114,USA</td>\n",
              "      <td>San Francisco</td>\n",
              "      <td>CA 94114</td>\n",
              "      <td>USA</td>\n",
              "      <td>Richvalley</td>\n",
              "      <td>20</td>\n",
              "      <td>(551 Alvarado St, San Francisco, California, 9...</td>\n",
              "      <td>37.753582</td>\n",
              "      <td>-122.433234</td>\n",
              "    </tr>\n",
              "  </tbody>\n",
              "</table>\n",
              "</div>"
            ],
            "text/plain": [
              "   ID                                         Address  ...   Latitude   Longitude\n",
              "0   1         3666 21st St,San Francisco,CA 94114,USA  ...  37.756632 -122.429411\n",
              "1   2       735 Dolores St,San Francisco,CA 94119,USA  ...  37.757829 -122.425373\n",
              "2   3  332 Hill St,San Francisco,California 94114,USA  ...  37.755845 -122.428813\n",
              "3   4         3995 23rd St,San Francisco,CA 94114,USA  ...  37.752921 -122.431703\n",
              "4   5    1056 Sanchez St,San Francisco,California,USA  ...  37.752132 -122.430006\n",
              "5   6      551 Alvarado St,San Francisco,CA 94114,USA  ...  37.753582 -122.433234\n",
              "\n",
              "[6 rows x 10 columns]"
            ]
          },
          "metadata": {},
          "execution_count": 35
        }
      ]
    },
    {
      "cell_type": "code",
      "metadata": {
        "id": "6wk4v2VOi-WY"
      },
      "source": [
        ""
      ],
      "execution_count": null,
      "outputs": []
    }
  ]
}