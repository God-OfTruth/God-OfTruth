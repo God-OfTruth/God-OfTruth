{
  "nbformat": 4,
  "nbformat_minor": 0,
  "metadata": {
    "colab": {
      "name": "Image_Testing.ipynb",
      "provenance": [],
      "authorship_tag": "ABX9TyP+WVJKJF7uTCzNv6pEJhts",
      "include_colab_link": true
    },
    "kernelspec": {
      "name": "python3",
      "display_name": "Python 3"
    },
    "language_info": {
      "name": "python"
    }
  },
  "cells": [
    {
      "cell_type": "markdown",
      "metadata": {
        "id": "view-in-github",
        "colab_type": "text"
      },
      "source": [
        "<a href=\"https://colab.research.google.com/github/God-OfTruth/God-OfTruth/blob/master/Image_Testing.ipynb\" target=\"_parent\"><img src=\"https://colab.research.google.com/assets/colab-badge.svg\" alt=\"Open In Colab\"/></a>"
      ]
    },
    {
      "cell_type": "code",
      "metadata": {
        "id": "gWmY9YR0kgHe"
      },
      "source": [
        "import numpy\n",
        "''"
      ],
      "execution_count": null,
      "outputs": []
    },
    {
      "cell_type": "code",
      "metadata": {
        "id": "UdllgkJXkm3K"
      },
      "source": [
        "n=numpy.arange(27)"
      ],
      "execution_count": null,
      "outputs": []
    },
    {
      "cell_type": "code",
      "metadata": {
        "colab": {
          "base_uri": "https://localhost:8080/"
        },
        "id": "fGx3--Ckk3bE",
        "outputId": "219d4c36-f406-47d5-de92-65002d27775c"
      },
      "source": [
        "n\n"
      ],
      "execution_count": null,
      "outputs": [
        {
          "output_type": "execute_result",
          "data": {
            "text/plain": [
              "array([ 0,  1,  2,  3,  4,  5,  6,  7,  8,  9, 10, 11, 12, 13, 14, 15, 16,\n",
              "       17, 18, 19, 20, 21, 22, 23, 24, 25, 26])"
            ]
          },
          "metadata": {},
          "execution_count": 3
        }
      ]
    },
    {
      "cell_type": "code",
      "metadata": {
        "colab": {
          "base_uri": "https://localhost:8080/"
        },
        "id": "AxiLxfAVk4oN",
        "outputId": "1f04353a-3504-47d8-ab60-0f156ef1d303"
      },
      "source": [
        "n.reshape(3,3,3)"
      ],
      "execution_count": null,
      "outputs": [
        {
          "output_type": "execute_result",
          "data": {
            "text/plain": [
              "array([[[ 0,  1,  2],\n",
              "        [ 3,  4,  5],\n",
              "        [ 6,  7,  8]],\n",
              "\n",
              "       [[ 9, 10, 11],\n",
              "        [12, 13, 14],\n",
              "        [15, 16, 17]],\n",
              "\n",
              "       [[18, 19, 20],\n",
              "        [21, 22, 23],\n",
              "        [24, 25, 26]]])"
            ]
          },
          "metadata": {},
          "execution_count": 5
        }
      ]
    },
    {
      "cell_type": "code",
      "metadata": {
        "colab": {
          "base_uri": "https://localhost:8080/"
        },
        "id": "2WioAQ3Vk-Py",
        "outputId": "0a68bb88-a0df-490d-dd07-2438eb63d78f"
      },
      "source": [
        "num=numpy.asarray([[552,22,24],[],[]])"
      ],
      "execution_count": null,
      "outputs": [
        {
          "output_type": "stream",
          "name": "stderr",
          "text": [
            "/usr/local/lib/python3.7/dist-packages/numpy/core/_asarray.py:83: VisibleDeprecationWarning: Creating an ndarray from ragged nested sequences (which is a list-or-tuple of lists-or-tuples-or ndarrays with different lengths or shapes) is deprecated. If you meant to do this, you must specify 'dtype=object' when creating the ndarray\n",
            "  return array(a, dtype, copy=False, order=order)\n"
          ]
        }
      ]
    },
    {
      "cell_type": "code",
      "metadata": {
        "colab": {
          "base_uri": "https://localhost:8080/"
        },
        "id": "EQGtY82Ula10",
        "outputId": "0f411c1e-0930-47c6-884b-a7dc78f034df"
      },
      "source": [
        "num"
      ],
      "execution_count": null,
      "outputs": [
        {
          "output_type": "execute_result",
          "data": {
            "text/plain": [
              "array([list([552, 22, 24]), list([]), list([])], dtype=object)"
            ]
          },
          "metadata": {},
          "execution_count": 8
        }
      ]
    },
    {
      "cell_type": "code",
      "metadata": {
        "id": "jnii0f--loy2"
      },
      "source": [
        "import cv2"
      ],
      "execution_count": 1,
      "outputs": []
    },
    {
      "cell_type": "code",
      "metadata": {
        "colab": {
          "base_uri": "https://localhost:8080/"
        },
        "id": "sB5qApQtydtX",
        "outputId": "d73d7299-0bd8-4b2d-f147-4dccfb588b1e"
      },
      "source": [
        "im_gv=cv2.imread(\"/smallgray.png\",0)\n",
        "im_gv"
      ],
      "execution_count": 4,
      "outputs": [
        {
          "output_type": "execute_result",
          "data": {
            "text/plain": [
              "array([[187, 158, 104, 121, 143],\n",
              "       [198, 125, 255, 255, 147],\n",
              "       [209, 134, 255,  97, 182]], dtype=uint8)"
            ]
          },
          "metadata": {},
          "execution_count": 4
        }
      ]
    },
    {
      "cell_type": "code",
      "metadata": {
        "colab": {
          "base_uri": "https://localhost:8080/"
        },
        "id": "-0T8Xhr6zHwQ",
        "outputId": "a1f79bf3-b186-4bc4-977c-902e51120f4d"
      },
      "source": [
        "cv2.imwrite(\"/newsmallgray.png\",im_gv)"
      ],
      "execution_count": 5,
      "outputs": [
        {
          "output_type": "execute_result",
          "data": {
            "text/plain": [
              "True"
            ]
          },
          "metadata": {},
          "execution_count": 5
        }
      ]
    },
    {
      "cell_type": "code",
      "metadata": {
        "colab": {
          "base_uri": "https://localhost:8080/"
        },
        "id": "Hw2EDiwv0Qrd",
        "outputId": "732ac98d-ea6a-4d7d-d4ac-fde8d0fe8b4c"
      },
      "source": [
        "im_gv[0:2]"
      ],
      "execution_count": 10,
      "outputs": [
        {
          "output_type": "execute_result",
          "data": {
            "text/plain": [
              "[0, 2]"
            ]
          },
          "metadata": {},
          "execution_count": 10
        }
      ]
    },
    {
      "cell_type": "code",
      "metadata": {
        "colab": {
          "base_uri": "https://localhost:8080/"
        },
        "id": "kQSj3jTI1EBY",
        "outputId": "fec2a9d4-15a1-42e4-d467-c86b469403e2"
      },
      "source": [
        "im_gv"
      ],
      "execution_count": 11,
      "outputs": [
        {
          "output_type": "execute_result",
          "data": {
            "text/plain": [
              "[0, 2]"
            ]
          },
          "metadata": {},
          "execution_count": 11
        }
      ]
    },
    {
      "cell_type": "code",
      "metadata": {
        "id": "LLYihqp21WgP"
      },
      "source": [
        "im_gv=cv2.imread(\"/smallgray.png\",0)"
      ],
      "execution_count": 12,
      "outputs": []
    },
    {
      "cell_type": "code",
      "metadata": {
        "colab": {
          "base_uri": "https://localhost:8080/"
        },
        "id": "MpwuTFb61ato",
        "outputId": "5674eeae-bef6-478e-860c-668cf1747b73"
      },
      "source": [
        "im_gv"
      ],
      "execution_count": 13,
      "outputs": [
        {
          "output_type": "execute_result",
          "data": {
            "text/plain": [
              "array([[187, 158, 104, 121, 143],\n",
              "       [198, 125, 255, 255, 147],\n",
              "       [209, 134, 255,  97, 182]], dtype=uint8)"
            ]
          },
          "metadata": {},
          "execution_count": 13
        }
      ]
    },
    {
      "cell_type": "code",
      "metadata": {
        "colab": {
          "base_uri": "https://localhost:8080/"
        },
        "id": "AcpZiFRU1cpa",
        "outputId": "d94dcb4a-1888-4fdb-c672-d27620276ff9"
      },
      "source": [
        "im_gv[0:2,2:4]"
      ],
      "execution_count": 15,
      "outputs": [
        {
          "output_type": "execute_result",
          "data": {
            "text/plain": [
              "array([[104, 121],\n",
              "       [255, 255]], dtype=uint8)"
            ]
          },
          "metadata": {},
          "execution_count": 15
        }
      ]
    },
    {
      "cell_type": "code",
      "metadata": {
        "colab": {
          "base_uri": "https://localhost:8080/"
        },
        "id": "g6TglULx1f3b",
        "outputId": "c5cfa87d-eff8-4dd2-a485-92cc468a998a"
      },
      "source": [
        "im_gv.shape"
      ],
      "execution_count": 16,
      "outputs": [
        {
          "output_type": "execute_result",
          "data": {
            "text/plain": [
              "(3, 5)"
            ]
          },
          "metadata": {},
          "execution_count": 16
        }
      ]
    },
    {
      "cell_type": "code",
      "metadata": {
        "colab": {
          "base_uri": "https://localhost:8080/"
        },
        "id": "CHnG1Rg01no4",
        "outputId": "e5088687-91a6-4877-d2dd-6a68e3041729"
      },
      "source": [
        "for i in im_gv:\n",
        "  print(i)"
      ],
      "execution_count": 18,
      "outputs": [
        {
          "output_type": "stream",
          "name": "stdout",
          "text": [
            "[187 158 104 121 143]\n",
            "[198 125 255 255 147]\n",
            "[209 134 255  97 182]\n"
          ]
        }
      ]
    },
    {
      "cell_type": "code",
      "metadata": {
        "colab": {
          "base_uri": "https://localhost:8080/"
        },
        "id": "KNkVwpP41x_D",
        "outputId": "a5afaaba-9b0d-4694-909d-f44577662dde"
      },
      "source": [
        "for i in im_gv.flat:\n",
        "  print(i)"
      ],
      "execution_count": 19,
      "outputs": [
        {
          "output_type": "stream",
          "name": "stdout",
          "text": [
            "187\n",
            "158\n",
            "104\n",
            "121\n",
            "143\n",
            "198\n",
            "125\n",
            "255\n",
            "255\n",
            "147\n",
            "209\n",
            "134\n",
            "255\n",
            "97\n",
            "182\n"
          ]
        }
      ]
    },
    {
      "cell_type": "code",
      "metadata": {
        "colab": {
          "base_uri": "https://localhost:8080/"
        },
        "id": "4TZDiPP-1-6K",
        "outputId": "edfe1846-23ad-4df7-f99c-6acd8cf1a117"
      },
      "source": [
        "im_gv"
      ],
      "execution_count": 20,
      "outputs": [
        {
          "output_type": "execute_result",
          "data": {
            "text/plain": [
              "array([[187, 158, 104, 121, 143],\n",
              "       [198, 125, 255, 255, 147],\n",
              "       [209, 134, 255,  97, 182]], dtype=uint8)"
            ]
          },
          "metadata": {},
          "execution_count": 20
        }
      ]
    },
    {
      "cell_type": "code",
      "metadata": {
        "colab": {
          "base_uri": "https://localhost:8080/"
        },
        "id": "0KhSLls12BxG",
        "outputId": "88d9ab4b-14cb-4a1a-a351-025c7173e3bd"
      },
      "source": [
        "import numpy\n",
        "im1=numpy.hstack((im_gv,im_gv))\n",
        "im1"
      ],
      "execution_count": 23,
      "outputs": [
        {
          "output_type": "execute_result",
          "data": {
            "text/plain": [
              "array([[187, 158, 104, 121, 143, 187, 158, 104, 121, 143],\n",
              "       [198, 125, 255, 255, 147, 198, 125, 255, 255, 147],\n",
              "       [209, 134, 255,  97, 182, 209, 134, 255,  97, 182]], dtype=uint8)"
            ]
          },
          "metadata": {},
          "execution_count": 23
        }
      ]
    },
    {
      "cell_type": "code",
      "metadata": {
        "id": "N8pb4Om72Y58"
      },
      "source": [
        "imV=numpy.vstack((im_gv,im_gv))"
      ],
      "execution_count": 24,
      "outputs": []
    },
    {
      "cell_type": "code",
      "metadata": {
        "id": "srWtfwYG3IoQ"
      },
      "source": [
        "imvs=numpy.vsplit(imV,3)"
      ],
      "execution_count": 26,
      "outputs": []
    },
    {
      "cell_type": "code",
      "metadata": {
        "colab": {
          "base_uri": "https://localhost:8080/"
        },
        "id": "FQoNRYce3Rd1",
        "outputId": "48d9cb18-d62a-4170-ac8b-d2410490fc28"
      },
      "source": [
        "imvs"
      ],
      "execution_count": 27,
      "outputs": [
        {
          "output_type": "execute_result",
          "data": {
            "text/plain": [
              "[array([[187, 158, 104, 121, 143],\n",
              "        [198, 125, 255, 255, 147]], dtype=uint8),\n",
              " array([[209, 134, 255,  97, 182],\n",
              "        [187, 158, 104, 121, 143]], dtype=uint8),\n",
              " array([[198, 125, 255, 255, 147],\n",
              "        [209, 134, 255,  97, 182]], dtype=uint8)]"
            ]
          },
          "metadata": {},
          "execution_count": 27
        }
      ]
    },
    {
      "cell_type": "code",
      "metadata": {
        "id": "WJM8abaM3XNp"
      },
      "source": [
        ""
      ],
      "execution_count": null,
      "outputs": []
    }
  ]
}